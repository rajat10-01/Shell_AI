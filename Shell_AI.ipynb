{
  "nbformat": 4,
  "nbformat_minor": 0,
  "metadata": {
    "colab": {
      "name": "Shell AI.ipynb",
      "provenance": [],
      "authorship_tag": "ABX9TyNR3t549dDzmlvmDqLVfYRR",
      "include_colab_link": true
    },
    "kernelspec": {
      "name": "python3",
      "display_name": "Python 3"
    }
  },
  "cells": [
    {
      "cell_type": "markdown",
      "metadata": {
        "id": "view-in-github",
        "colab_type": "text"
      },
      "source": [
        "<a href=\"https://colab.research.google.com/github/rajat10-01/Shell_AI/blob/main/Shell_AI.ipynb\" target=\"_parent\"><img src=\"https://colab.research.google.com/assets/colab-badge.svg\" alt=\"Open In Colab\"/></a>"
      ]
    },
    {
      "cell_type": "code",
      "metadata": {
        "id": "EmPOEhEMmYoH"
      },
      "source": [
        "import numpy as np\n",
        "import pandas as pd\n",
        "import seaborn as sns\n",
        "import matplotlib.pyplot as plt"
      ],
      "execution_count": 1,
      "outputs": []
    },
    {
      "cell_type": "code",
      "metadata": {
        "id": "dA5nYFR1rksr",
        "outputId": "c9a61015-b659-4dc6-cf33-96ceee76666e",
        "colab": {
          "base_uri": "https://localhost:8080/",
          "height": 119
        }
      },
      "source": [
        "!git clone https://github.com/rajat10-01/Shell_AI"
      ],
      "execution_count": 2,
      "outputs": [
        {
          "output_type": "stream",
          "text": [
            "Cloning into 'Shell_AI'...\n",
            "remote: Enumerating objects: 19, done.\u001b[K\n",
            "remote: Counting objects: 100% (19/19), done.\u001b[K\n",
            "remote: Compressing objects: 100% (19/19), done.\u001b[K\n",
            "remote: Total 19 (delta 5), reused 0 (delta 0), pack-reused 0\u001b[K\n",
            "Unpacking objects: 100% (19/19), done.\n"
          ],
          "name": "stdout"
        }
      ]
    },
    {
      "cell_type": "code",
      "metadata": {
        "id": "2q1K_TuZtJzI",
        "outputId": "e21743dd-83ce-40d6-bc9d-4f60f9af5e2e",
        "colab": {
          "base_uri": "https://localhost:8080/",
          "height": 34
        }
      },
      "source": [
        "%cd Shell_AI/"
      ],
      "execution_count": 3,
      "outputs": [
        {
          "output_type": "stream",
          "text": [
            "/content/Shell_AI\n"
          ],
          "name": "stdout"
        }
      ]
    },
    {
      "cell_type": "code",
      "metadata": {
        "id": "S89p10BOtjlx",
        "outputId": "dd5189d1-1524-4cba-c4f2-332f10d80e49",
        "colab": {
          "base_uri": "https://localhost:8080/",
          "height": 85
        }
      },
      "source": [
        "!ls"
      ],
      "execution_count": 4,
      "outputs": [
        {
          "output_type": "stream",
          "text": [
            "Farm_Evaluator.py      wind_data_2007.csv  wind_data_2014.csv\n",
            "Farm_Evaluator_Vec.py  wind_data_2008.csv  wind_data_2015.csv\n",
            "power_curve.csv        wind_data_2009.csv  wind_data_2017.csv\n",
            "turbine_loc_test.csv   wind_data_2013.csv\n"
          ],
          "name": "stdout"
        }
      ]
    },
    {
      "cell_type": "code",
      "metadata": {
        "id": "Tw-YMh0CzGWU"
      },
      "source": [
        "exec(open('Farm_Evaluator.py').read())"
      ],
      "execution_count": 5,
      "outputs": []
    },
    {
      "cell_type": "code",
      "metadata": {
        "id": "giR68oaBzDPV",
        "outputId": "79e910de-3fd9-4121-81a5-7f2767b4d091",
        "colab": {
          "base_uri": "https://localhost:8080/",
          "height": 102
        }
      },
      "source": [
        "turb_coords    =  getTurbLoc('turbine_loc_test.csv')\n",
        "    \n",
        "# Load the power curve\n",
        "power_curve    =  loadPowerCurve('power_curve.csv')\n",
        "    \n",
        "# Pass wind data csv file location to function binWindResourceData.\n",
        "# Retrieve probabilities of wind instance occurence.\n",
        "wind_inst_freq =  binWindResourceData('wind_data_2007.csv')\n",
        "    \n",
        "# check if there is any constraint is violated before we do anything. Comment \n",
        "# out the function call to checkConstraints below if you desire. Note that \n",
        "# this is just a check and the function does not quantifies the amount by \n",
        "# which the constraints are violated if any. \n",
        "checkConstraints(turb_coords, turb_diam)\n",
        "     \n",
        "print('Calculating AEP......')\n",
        "AEP = totalAEP(turb_diam, turb_coords, power_curve, wind_inst_freq) \n",
        "print('Total power produced by the wind farm is: ', \"%.12f\"%(AEP), 'GWh')"
      ],
      "execution_count": 12,
      "outputs": [
        {
          "output_type": "stream",
          "text": [
            " 33%|███▎      | 12/36 [00:00<00:00, 112.72it/s]"
          ],
          "name": "stderr"
        },
        {
          "output_type": "stream",
          "text": [
            "Both perimeter and proximity constraints are satisfied !!\n",
            "\n",
            "Calculating AEP......\n"
          ],
          "name": "stdout"
        },
        {
          "output_type": "stream",
          "text": [
            "100%|██████████| 36/36 [00:00<00:00, 113.01it/s]"
          ],
          "name": "stderr"
        },
        {
          "output_type": "stream",
          "text": [
            "Total power produced by the wind farm is:  505.450636596680 GWh\n"
          ],
          "name": "stdout"
        },
        {
          "output_type": "stream",
          "text": [
            "\n"
          ],
          "name": "stderr"
        }
      ]
    },
    {
      "cell_type": "code",
      "metadata": {
        "id": "LbFF8iIJ3s1Q"
      },
      "source": [
        ""
      ],
      "execution_count": null,
      "outputs": []
    }
  ]
}